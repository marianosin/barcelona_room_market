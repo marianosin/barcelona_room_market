{
 "cells": [
  {
   "cell_type": "code",
   "execution_count": 3,
   "metadata": {},
   "outputs": [],
   "source": [
    "import dash\n",
    "import dash_core_components as dcc\n",
    "import dash_html_components as html"
   ]
  },
  {
   "cell_type": "code",
   "execution_count": 13,
   "metadata": {},
   "outputs": [],
   "source": [
    "# import data from include/pisocompartito/processed/\n",
    "import pandas as pd\n",
    "data = pd.read_csv('include/pisocompartido/processed/pisocompartido_20240505_raw.csv')"
   ]
  },
  {
   "cell_type": "code",
   "execution_count": 14,
   "metadata": {},
   "outputs": [],
   "source": [
    "# We drop data that does not have prices and the rest of nan are replaced by 'Not defined'\n",
    "data = data.dropna(subset=['price']).fillna('Not defined')"
   ]
  },
  {
   "cell_type": "code",
   "execution_count": 25,
   "metadata": {},
   "outputs": [],
   "source": [
    "# Building table with: quantity of rooms in dataset, min price, max oprice, avarage price\n",
    "total_rooms = data.shape[0]\n",
    "min_price = data['price'].min()\n",
    "max_price = data['price'].max()\n",
    "avg_price = round(data['price'].mean(), 2)\n",
    "\n",
    "# Building table with: quantity of rooms in dataset, min price, max oprice, avarage price\n",
    "basic_data = pd.DataFrame({'Total rooms': [total_rooms], 'Min price': [min_price], 'Max price': [max_price], 'Average price': [avg_price]})"
   ]
  },
  {
   "cell_type": "code",
   "execution_count": 21,
   "metadata": {},
   "outputs": [
    {
     "data": {
      "text/html": [
       "<div>\n",
       "<style scoped>\n",
       "    .dataframe tbody tr th:only-of-type {\n",
       "        vertical-align: middle;\n",
       "    }\n",
       "\n",
       "    .dataframe tbody tr th {\n",
       "        vertical-align: top;\n",
       "    }\n",
       "\n",
       "    .dataframe thead th {\n",
       "        text-align: right;\n",
       "    }\n",
       "</style>\n",
       "<table border=\"1\" class=\"dataframe\">\n",
       "  <thead>\n",
       "    <tr style=\"text-align: right;\">\n",
       "      <th></th>\n",
       "      <th>Room size</th>\n",
       "      <th>Quantity</th>\n",
       "    </tr>\n",
       "  </thead>\n",
       "  <tbody>\n",
       "    <tr>\n",
       "      <th>0</th>\n",
       "      <td>medium</td>\n",
       "      <td>302</td>\n",
       "    </tr>\n",
       "    <tr>\n",
       "      <th>1</th>\n",
       "      <td>large</td>\n",
       "      <td>181</td>\n",
       "    </tr>\n",
       "    <tr>\n",
       "      <th>2</th>\n",
       "      <td>small</td>\n",
       "      <td>79</td>\n",
       "    </tr>\n",
       "  </tbody>\n",
       "</table>\n",
       "</div>"
      ],
      "text/plain": [
       "  Room size  Quantity\n",
       "0    medium       302\n",
       "1     large       181\n",
       "2     small        79"
      ]
     },
     "execution_count": 21,
     "metadata": {},
     "output_type": "execute_result"
    }
   ],
   "source": [
    "# Building table to show quantity of roomes by room size\n",
    "room_size = data['room_size'].value_counts().reset_index()\n",
    "room_size = room_size.rename(columns={'count': 'Quantity', 'room_size': 'Room size'})\n",
    "room_size"
   ]
  },
  {
   "cell_type": "code",
   "execution_count": null,
   "metadata": {},
   "outputs": [],
   "source": [
    "# "
   ]
  },
  {
   "cell_type": "code",
   "execution_count": 4,
   "metadata": {},
   "outputs": [],
   "source": [
    "app = dash.Dash()"
   ]
  },
  {
   "cell_type": "code",
   "execution_count": 38,
   "metadata": {},
   "outputs": [],
   "source": [
    "app.layout = html.Div([\n",
    "    html.H1('Rooms offerend on pisocompartido.com', style={'color': 'black', 'font-size': '24px'}),\n",
    "    html.Div('Basic information on rooms renting market in Barcelona', style={'font-style': 'italic'}),\n",
    "    # presenting table basic_data\n",
    "    html.H3('Basic data'),\n",
    "    html.Table([\n",
    "        html.Tr([html.Td(col, style={'font-weight': 'bold'}) for col in basic_data.columns]),\n",
    "        html.Tr([html.Td(basic_data.iloc[0][col]) for col in basic_data.columns])\n",
    "    ]),\n",
    "    # presenting room_size in bar char\n",
    "    html.H3('Room size'),\n",
    "    dcc.Graph(\n",
    "        id='room_size',\n",
    "        figure={\n",
    "            'data': [\n",
    "                {'x': room_size['Room size'], 'y': room_size['Quantity'], 'type': 'bar', 'name': 'Room size'}\n",
    "            ],\n",
    "            'layout': {\n",
    "                'title': 'Room size'\n",
    "            }\n",
    "        }\n",
    "    ),\n",
    "    # Presenting price distribution discriminated by room_size as box plot\n",
    "    html.H3('Price distribution by room size'),\n",
    "    dcc.Graph(\n",
    "        id='price_distribution',\n",
    "        figure={\n",
    "            'data': [\n",
    "                {'x': data['room_size'], 'y': data['price'], 'type': 'box', 'name': 'Price distribution'}\n",
    "            ],\n",
    "            'layout': {\n",
    "                'title': 'Price distribution by room size'\n",
    "            }\n",
    "        }\n",
    "    )\n",
    "])"
   ]
  },
  {
   "cell_type": "code",
   "execution_count": 39,
   "metadata": {},
   "outputs": [
    {
     "data": {
      "text/html": [
       "\n",
       "        <iframe\n",
       "            width=\"100%\"\n",
       "            height=\"650\"\n",
       "            src=\"http://127.0.0.1:4050/\"\n",
       "            frameborder=\"0\"\n",
       "            allowfullscreen\n",
       "            \n",
       "        ></iframe>\n",
       "        "
      ],
      "text/plain": [
       "<IPython.lib.display.IFrame at 0x12110db90>"
      ]
     },
     "metadata": {},
     "output_type": "display_data"
    }
   ],
   "source": [
    "if __name__ == '__main__':\n",
    "    app.run_server(port=4050)"
   ]
  }
 ],
 "metadata": {
  "kernelspec": {
   "display_name": ".venv",
   "language": "python",
   "name": "python3"
  },
  "language_info": {
   "codemirror_mode": {
    "name": "ipython",
    "version": 3
   },
   "file_extension": ".py",
   "mimetype": "text/x-python",
   "name": "python",
   "nbconvert_exporter": "python",
   "pygments_lexer": "ipython3",
   "version": "3.11.9"
  }
 },
 "nbformat": 4,
 "nbformat_minor": 2
}
